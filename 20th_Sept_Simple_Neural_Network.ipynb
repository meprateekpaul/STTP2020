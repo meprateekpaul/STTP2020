{
  "nbformat": 4,
  "nbformat_minor": 0,
  "metadata": {
    "colab": {
      "name": "Simple Neural Network.ipynb",
      "provenance": [],
      "collapsed_sections": []
    },
    "kernelspec": {
      "name": "python3",
      "display_name": "Python 3"
    }
  },
  "cells": [
    {
      "cell_type": "code",
      "metadata": {
        "id": "SJcKwmTPcjK6",
        "colab_type": "code",
        "colab": {}
      },
      "source": [
        "import numpy as np"
      ],
      "execution_count": null,
      "outputs": []
    },
    {
      "cell_type": "code",
      "metadata": {
        "id": "r4GhUro1cymK",
        "colab_type": "code",
        "colab": {}
      },
      "source": [
        "inputs = np.array([[0,1,0],[1,0,1],[0,0,1],[1,1,0]])\n",
        "outputs = np.array([[0],[1],[0],[1]])"
      ],
      "execution_count": null,
      "outputs": []
    },
    {
      "cell_type": "code",
      "metadata": {
        "id": "gyR0v7QXdPX9",
        "colab_type": "code",
        "colab": {
          "base_uri": "https://localhost:8080/",
          "height": 86
        },
        "outputId": "afbf5ed7-b3b8-4d08-913f-d4d9f17704c5"
      },
      "source": [
        "inputs"
      ],
      "execution_count": null,
      "outputs": [
        {
          "output_type": "execute_result",
          "data": {
            "text/plain": [
              "array([[0, 1, 0],\n",
              "       [1, 0, 1],\n",
              "       [0, 0, 1],\n",
              "       [1, 1, 0]])"
            ]
          },
          "metadata": {
            "tags": []
          },
          "execution_count": 3
        }
      ]
    },
    {
      "cell_type": "code",
      "metadata": {
        "id": "6BLg2NSDdQOr",
        "colab_type": "code",
        "colab": {
          "base_uri": "https://localhost:8080/",
          "height": 86
        },
        "outputId": "42155514-59ca-4ac7-ec8b-5d74988881de"
      },
      "source": [
        "outputs"
      ],
      "execution_count": null,
      "outputs": [
        {
          "output_type": "execute_result",
          "data": {
            "text/plain": [
              "array([[0],\n",
              "       [1],\n",
              "       [0],\n",
              "       [1]])"
            ]
          },
          "metadata": {
            "tags": []
          },
          "execution_count": 4
        }
      ]
    },
    {
      "cell_type": "code",
      "metadata": {
        "id": "_OBI-CewdQ__",
        "colab_type": "code",
        "colab": {
          "base_uri": "https://localhost:8080/",
          "height": 69
        },
        "outputId": "e15c630b-a140-4b8b-b77b-bce6fa86c76e"
      },
      "source": [
        "weights = np.random.random((3,1))\n",
        "weights"
      ],
      "execution_count": null,
      "outputs": [
        {
          "output_type": "execute_result",
          "data": {
            "text/plain": [
              "array([[0.12897709],\n",
              "       [0.00083795],\n",
              "       [0.64320194]])"
            ]
          },
          "metadata": {
            "tags": []
          },
          "execution_count": 5
        }
      ]
    },
    {
      "cell_type": "code",
      "metadata": {
        "id": "9P2C-QsgdrC8",
        "colab_type": "code",
        "colab": {
          "base_uri": "https://localhost:8080/",
          "height": 86
        },
        "outputId": "1d6a51f6-dc86-4fd3-daf9-5d8808586cd3"
      },
      "source": [
        "sum = np.dot(inputs,weights) + 0.02\n",
        "sum"
      ],
      "execution_count": null,
      "outputs": [
        {
          "output_type": "execute_result",
          "data": {
            "text/plain": [
              "array([[0.02083795],\n",
              "       [0.79217902],\n",
              "       [0.66320194],\n",
              "       [0.14981504]])"
            ]
          },
          "metadata": {
            "tags": []
          },
          "execution_count": 7
        }
      ]
    },
    {
      "cell_type": "code",
      "metadata": {
        "id": "fO57qYLRd6MT",
        "colab_type": "code",
        "colab": {}
      },
      "source": [
        "def activation(x):\n",
        "  return 1/ (1+np.exp(-x))"
      ],
      "execution_count": null,
      "outputs": []
    },
    {
      "cell_type": "code",
      "metadata": {
        "id": "IkyNmvVJem40",
        "colab_type": "code",
        "colab": {
          "base_uri": "https://localhost:8080/",
          "height": 86
        },
        "outputId": "1fd58ee0-41e8-4b0c-e80a-8e21c7b1a202"
      },
      "source": [
        "sum = np.dot(inputs,weights) + 0.02\n",
        "ypred = activation(sum)\n",
        "ypred"
      ],
      "execution_count": null,
      "outputs": [
        {
          "output_type": "execute_result",
          "data": {
            "text/plain": [
              "array([[0.5052093 ],\n",
              "       [0.68829902],\n",
              "       [0.65997929],\n",
              "       [0.53738386]])"
            ]
          },
          "metadata": {
            "tags": []
          },
          "execution_count": 9
        }
      ]
    },
    {
      "cell_type": "code",
      "metadata": {
        "id": "NnSO44gOezNM",
        "colab_type": "code",
        "colab": {
          "base_uri": "https://localhost:8080/",
          "height": 86
        },
        "outputId": "bb017d49-bc34-4592-e5c6-5623ddc4ece9"
      },
      "source": [
        "error = outputs - ypred\n",
        "error"
      ],
      "execution_count": null,
      "outputs": [
        {
          "output_type": "execute_result",
          "data": {
            "text/plain": [
              "array([[-0.5052093 ],\n",
              "       [ 0.31170098],\n",
              "       [-0.65997929],\n",
              "       [ 0.46261614]])"
            ]
          },
          "metadata": {
            "tags": []
          },
          "execution_count": 10
        }
      ]
    },
    {
      "cell_type": "code",
      "metadata": {
        "id": "p6buhoJwfNea",
        "colab_type": "code",
        "colab": {}
      },
      "source": [
        "def gradient(x,e):\n",
        "  return e * (x * (1-x))"
      ],
      "execution_count": null,
      "outputs": []
    },
    {
      "cell_type": "code",
      "metadata": {
        "id": "YNhqm4abf2Zq",
        "colab_type": "code",
        "colab": {
          "base_uri": "https://localhost:8080/",
          "height": 86
        },
        "outputId": "b48ce66c-44e2-4682-8333-aaffae82e99c"
      },
      "source": [
        "sum = np.dot(inputs,weights) + 0.02\n",
        "ypred = activation(sum)\n",
        "error = outputs - ypred\n",
        "cha_weights = gradient(ypred,error)  ### gradient descent\n",
        "weights = weights + np.dot(inputs.T,cha_weights)\n",
        "error"
      ],
      "execution_count": null,
      "outputs": [
        {
          "output_type": "execute_result",
          "data": {
            "text/plain": [
              "array([[-0.49661328],\n",
              "       [ 0.27536804],\n",
              "       [-0.62112438],\n",
              "       [ 0.38706057]])"
            ]
          },
          "metadata": {
            "tags": []
          },
          "execution_count": 14
        }
      ]
    },
    {
      "cell_type": "code",
      "metadata": {
        "id": "WuZVrPvkgUAS",
        "colab_type": "code",
        "colab": {
          "base_uri": "https://localhost:8080/",
          "height": 86
        },
        "outputId": "c1ac5673-7fe1-4095-d3de-75a7ebf274b6"
      },
      "source": [
        "for i in range(1000):\n",
        "  sum = np.dot(inputs,weights) + 0.02\n",
        "  ypred = activation(sum)\n",
        "  error = outputs - ypred\n",
        "  cha_weights = gradient(ypred,error)  ### gradient descent\n",
        "  weights = weights + np.dot(inputs.T,cha_weights)\n",
        "error"
      ],
      "execution_count": null,
      "outputs": [
        {
          "output_type": "execute_result",
          "data": {
            "text/plain": [
              "array([[-0.01892395],\n",
              "       [ 0.01332676],\n",
              "       [-0.01892395],\n",
              "       [ 0.01332676]])"
            ]
          },
          "metadata": {
            "tags": []
          },
          "execution_count": 18
        }
      ]
    },
    {
      "cell_type": "code",
      "metadata": {
        "id": "9aqniaXjgkgb",
        "colab_type": "code",
        "colab": {
          "base_uri": "https://localhost:8080/",
          "height": 86
        },
        "outputId": "3c9d8992-c475-4469-8982-05cc07078e94"
      },
      "source": [
        "ypred"
      ],
      "execution_count": null,
      "outputs": [
        {
          "output_type": "execute_result",
          "data": {
            "text/plain": [
              "array([[0.02337012],\n",
              "       [0.98355851],\n",
              "       [0.02337012],\n",
              "       [0.98355851]])"
            ]
          },
          "metadata": {
            "tags": []
          },
          "execution_count": 17
        }
      ]
    },
    {
      "cell_type": "code",
      "metadata": {
        "id": "a7OIRQZsgpL2",
        "colab_type": "code",
        "colab": {
          "base_uri": "https://localhost:8080/",
          "height": 34
        },
        "outputId": "aa58d11f-f0a3-40e6-8e74-d5a8f19edb5b"
      },
      "source": [
        "inputs.T.shape"
      ],
      "execution_count": null,
      "outputs": [
        {
          "output_type": "execute_result",
          "data": {
            "text/plain": [
              "(3, 4)"
            ]
          },
          "metadata": {
            "tags": []
          },
          "execution_count": 22
        }
      ]
    },
    {
      "cell_type": "code",
      "metadata": {
        "id": "22j1l_5-hVZJ",
        "colab_type": "code",
        "colab": {
          "base_uri": "https://localhost:8080/",
          "height": 34
        },
        "outputId": "d485b916-15d6-41f0-95ee-b4ae038584b0"
      },
      "source": [
        "cha_weights.shape"
      ],
      "execution_count": null,
      "outputs": [
        {
          "output_type": "execute_result",
          "data": {
            "text/plain": [
              "(4, 1)"
            ]
          },
          "metadata": {
            "tags": []
          },
          "execution_count": 21
        }
      ]
    },
    {
      "cell_type": "code",
      "metadata": {
        "id": "ZcH_xKw2hYZe",
        "colab_type": "code",
        "colab": {}
      },
      "source": [
        ""
      ],
      "execution_count": null,
      "outputs": []
    }
  ]
}