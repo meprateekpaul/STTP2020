{
  "nbformat": 4,
  "nbformat_minor": 0,
  "metadata": {
    "colab": {
      "name": "8th Dec-SSBT-STTP-SimpleNeuralNetworkFromScratch.ipynb",
      "provenance": []
    },
    "kernelspec": {
      "name": "python3",
      "display_name": "Python 3"
    }
  },
  "cells": [
    {
      "cell_type": "code",
      "metadata": {
        "id": "2Hp6YJI-Qaka"
      },
      "source": [
        "import numpy as np"
      ],
      "execution_count": 1,
      "outputs": []
    },
    {
      "cell_type": "code",
      "metadata": {
        "id": "y2pyKcJ3QmJL"
      },
      "source": [
        "#our basic dataset\n",
        "x = np.array([[0,1,0],[1,0,1],[1,1,0],[0,0,1]])\n",
        "y = np.array([[0],[1],[1],[0]])"
      ],
      "execution_count": 2,
      "outputs": []
    },
    {
      "cell_type": "code",
      "metadata": {
        "colab": {
          "base_uri": "https://localhost:8080/"
        },
        "id": "RgAdUn6BQqIQ",
        "outputId": "64fb67df-46a3-4d9f-d611-5ed04e79d0e6"
      },
      "source": [
        "x"
      ],
      "execution_count": 3,
      "outputs": [
        {
          "output_type": "execute_result",
          "data": {
            "text/plain": [
              "array([[0, 1, 0],\n",
              "       [1, 0, 1],\n",
              "       [1, 1, 0],\n",
              "       [0, 0, 1]])"
            ]
          },
          "metadata": {
            "tags": []
          },
          "execution_count": 3
        }
      ]
    },
    {
      "cell_type": "code",
      "metadata": {
        "colab": {
          "base_uri": "https://localhost:8080/"
        },
        "id": "J28uCFbPQqsE",
        "outputId": "133cf7ee-9561-4113-d882-80976bdcafa6"
      },
      "source": [
        "y"
      ],
      "execution_count": 4,
      "outputs": [
        {
          "output_type": "execute_result",
          "data": {
            "text/plain": [
              "array([[0],\n",
              "       [1],\n",
              "       [1],\n",
              "       [0]])"
            ]
          },
          "metadata": {
            "tags": []
          },
          "execution_count": 4
        }
      ]
    },
    {
      "cell_type": "code",
      "metadata": {
        "colab": {
          "base_uri": "https://localhost:8080/"
        },
        "id": "doPSAiDNQrC5",
        "outputId": "92051b30-8eda-44d7-bbf4-73aa5427c6b6"
      },
      "source": [
        "1/(1+np.exp(-2.0))"
      ],
      "execution_count": 5,
      "outputs": [
        {
          "output_type": "execute_result",
          "data": {
            "text/plain": [
              "0.8807970779778823"
            ]
          },
          "metadata": {
            "tags": []
          },
          "execution_count": 5
        }
      ]
    },
    {
      "cell_type": "code",
      "metadata": {
        "colab": {
          "base_uri": "https://localhost:8080/"
        },
        "id": "oMAFPsqnSSjY",
        "outputId": "c8b97975-5476-4c9a-94cf-db5bdb9b6b4a"
      },
      "source": [
        "###Assign the weights\n",
        "np.random.seed(10) #fixing the waights\n",
        "weights = np.random.random((3,1))\n",
        "weights"
      ],
      "execution_count": 9,
      "outputs": [
        {
          "output_type": "execute_result",
          "data": {
            "text/plain": [
              "array([[0.77132064],\n",
              "       [0.02075195],\n",
              "       [0.63364823]])"
            ]
          },
          "metadata": {
            "tags": []
          },
          "execution_count": 9
        }
      ]
    },
    {
      "cell_type": "code",
      "metadata": {
        "colab": {
          "base_uri": "https://localhost:8080/"
        },
        "id": "CubP3p2bSWSW",
        "outputId": "5b5412c7-d6cb-4d2d-8fd3-059c2fbc047a"
      },
      "source": [
        "### Multiply and sum (input and weights)\n",
        "sum = np.dot(x,weights)\n",
        "sum"
      ],
      "execution_count": 10,
      "outputs": [
        {
          "output_type": "execute_result",
          "data": {
            "text/plain": [
              "array([[0.02075195],\n",
              "       [1.40496888],\n",
              "       [0.79207259],\n",
              "       [0.63364823]])"
            ]
          },
          "metadata": {
            "tags": []
          },
          "execution_count": 10
        }
      ]
    },
    {
      "cell_type": "code",
      "metadata": {
        "id": "jxaed8DTTldG"
      },
      "source": [
        "def activation(x):    #sigmoid\n",
        "  return 1/(1+np.exp(-x))"
      ],
      "execution_count": 11,
      "outputs": []
    },
    {
      "cell_type": "code",
      "metadata": {
        "colab": {
          "base_uri": "https://localhost:8080/"
        },
        "id": "ChDogvLlVAOY",
        "outputId": "7c6675e2-2561-465e-fc12-4ad072cc1c21"
      },
      "source": [
        "activation(22)"
      ],
      "execution_count": 12,
      "outputs": [
        {
          "output_type": "execute_result",
          "data": {
            "text/plain": [
              "0.9999999997210531"
            ]
          },
          "metadata": {
            "tags": []
          },
          "execution_count": 12
        }
      ]
    },
    {
      "cell_type": "code",
      "metadata": {
        "colab": {
          "base_uri": "https://localhost:8080/"
        },
        "id": "ODrEjF2JVB95",
        "outputId": "b4cef59d-8a7f-4f4a-e6cf-1dc1302529be"
      },
      "source": [
        "sum = np.dot(x,weights) + 0.02\n",
        "ypred = activation(sum)\n",
        "ypred"
      ],
      "execution_count": 13,
      "outputs": [
        {
          "output_type": "execute_result",
          "data": {
            "text/plain": [
              "array([[0.51018658],\n",
              "       [0.8061162 ],\n",
              "       [0.69255099],\n",
              "       [0.65783211]])"
            ]
          },
          "metadata": {
            "tags": []
          },
          "execution_count": 13
        }
      ]
    },
    {
      "cell_type": "code",
      "metadata": {
        "colab": {
          "base_uri": "https://localhost:8080/"
        },
        "id": "aVT05nMcVMwv",
        "outputId": "76555efa-4b58-42de-b83d-05362dca326c"
      },
      "source": [
        "ypred.round()"
      ],
      "execution_count": 14,
      "outputs": [
        {
          "output_type": "execute_result",
          "data": {
            "text/plain": [
              "array([[1.],\n",
              "       [1.],\n",
              "       [1.],\n",
              "       [1.]])"
            ]
          },
          "metadata": {
            "tags": []
          },
          "execution_count": 14
        }
      ]
    },
    {
      "cell_type": "code",
      "metadata": {
        "colab": {
          "base_uri": "https://localhost:8080/"
        },
        "id": "QvX9F2-HVNvo",
        "outputId": "918cc548-2639-4c65-d089-a190a109ea90"
      },
      "source": [
        "sum = np.dot(x,weights) + 0.02\n",
        "ypred = activation(sum)\n",
        "error = y - ypred\n",
        "error"
      ],
      "execution_count": 15,
      "outputs": [
        {
          "output_type": "execute_result",
          "data": {
            "text/plain": [
              "array([[-0.51018658],\n",
              "       [ 0.1938838 ],\n",
              "       [ 0.30744901],\n",
              "       [-0.65783211]])"
            ]
          },
          "metadata": {
            "tags": []
          },
          "execution_count": 15
        }
      ]
    },
    {
      "cell_type": "code",
      "metadata": {
        "id": "GFRvHUCrWDOC"
      },
      "source": [
        "def gradient(x,a):\n",
        "  return a*(x*(1-x))"
      ],
      "execution_count": 16,
      "outputs": []
    },
    {
      "cell_type": "code",
      "metadata": {
        "colab": {
          "base_uri": "https://localhost:8080/"
        },
        "id": "b5nJ01ImXBNA",
        "outputId": "86b49cd9-0bfa-45d4-c00e-6c05394e127f"
      },
      "source": [
        "sum = np.dot(x,weights) + 0.02\n",
        "ypred = activation(sum)\n",
        "error = y - ypred\n",
        "change_in_weight = gradient(ypred,error)    ### gradient descent\n",
        "weights = weights + np.dot(x.T,change_in_weight)\n",
        "error"
      ],
      "execution_count": 17,
      "outputs": [
        {
          "output_type": "execute_result",
          "data": {
            "text/plain": [
              "array([[-0.51018658],\n",
              "       [ 0.1938838 ],\n",
              "       [ 0.30744901],\n",
              "       [-0.65783211]])"
            ]
          },
          "metadata": {
            "tags": []
          },
          "execution_count": 17
        }
      ]
    },
    {
      "cell_type": "code",
      "metadata": {
        "id": "3hwaDt0sXnbS"
      },
      "source": [
        "for i in range(500):\n",
        "  sum = np.dot(x,weights) + 0.02\n",
        "  ypred = activation(sum)\n",
        "  error = y - ypred\n",
        "  change_in_weight = gradient(ypred,error)    ### gradient descent\n",
        "  weights = weights + np.dot(x.T,change_in_weight)\n",
        "  #error"
      ],
      "execution_count": 18,
      "outputs": []
    },
    {
      "cell_type": "code",
      "metadata": {
        "colab": {
          "base_uri": "https://localhost:8080/"
        },
        "id": "WmABnxF2YDMZ",
        "outputId": "1fea727d-b83c-4169-aa43-ae95a8c3ae08"
      },
      "source": [
        "error"
      ],
      "execution_count": 19,
      "outputs": [
        {
          "output_type": "execute_result",
          "data": {
            "text/plain": [
              "array([[-0.04888703],\n",
              "       [ 0.0341874 ],\n",
              "       [ 0.03418747],\n",
              "       [-0.04888713]])"
            ]
          },
          "metadata": {
            "tags": []
          },
          "execution_count": 19
        }
      ]
    },
    {
      "cell_type": "code",
      "metadata": {
        "colab": {
          "base_uri": "https://localhost:8080/"
        },
        "id": "-PZe4TaNYS4q",
        "outputId": "fa0f5694-d86d-496c-9bdd-0aeefda04ff9"
      },
      "source": [
        "ypred"
      ],
      "execution_count": 20,
      "outputs": [
        {
          "output_type": "execute_result",
          "data": {
            "text/plain": [
              "array([[0.04888703],\n",
              "       [0.9658126 ],\n",
              "       [0.96581253],\n",
              "       [0.04888713]])"
            ]
          },
          "metadata": {
            "tags": []
          },
          "execution_count": 20
        }
      ]
    },
    {
      "cell_type": "code",
      "metadata": {
        "colab": {
          "base_uri": "https://localhost:8080/"
        },
        "id": "hTn25EXEYeRO",
        "outputId": "a01a03df-0c7f-4e9e-cfcb-ffe4ad4fa961"
      },
      "source": [
        "ypred.round()"
      ],
      "execution_count": 22,
      "outputs": [
        {
          "output_type": "execute_result",
          "data": {
            "text/plain": [
              "array([[0.],\n",
              "       [1.],\n",
              "       [1.],\n",
              "       [0.]])"
            ]
          },
          "metadata": {
            "tags": []
          },
          "execution_count": 22
        }
      ]
    },
    {
      "cell_type": "code",
      "metadata": {
        "id": "GXVFjWoPYhDx"
      },
      "source": [
        ""
      ],
      "execution_count": null,
      "outputs": []
    }
  ]
}